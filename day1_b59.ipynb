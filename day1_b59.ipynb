{
 "cells": [
  {
   "cell_type": "code",
   "execution_count": null,
   "id": "2b5e1c98-265a-4633-a53f-996ad2b64ce8",
   "metadata": {},
   "outputs": [],
   "source": [
    "print(Welcome to the python world)\n"
   ]
  },
  {
   "cell_type": "code",
   "execution_count": null,
   "id": "f6570125-2619-4194-b7e6-f57093c7fbfc",
   "metadata": {},
   "outputs": [],
   "source": [
    "print('Welcome to the pythn world')"
   ]
  },
  {
   "cell_type": "code",
   "execution_count": 1,
   "id": "d63ac11e-c283-46a7-93a4-57530eccec52",
   "metadata": {},
   "outputs": [
    {
     "name": "stdout",
     "output_type": "stream",
     "text": [
      "Welcome to the pythn world\n"
     ]
    }
   ],
   "source": [
    "print('Welcome to the pythn world')\n"
   ]
  },
  {
   "cell_type": "code",
   "execution_count": 2,
   "id": "94831ce3-8b56-4aed-945e-8b4bcabedb93",
   "metadata": {},
   "outputs": [
    {
     "ename": "SyntaxError",
     "evalue": "invalid syntax (609214733.py, line 1)",
     "output_type": "error",
     "traceback": [
      "\u001b[1;36m  Input \u001b[1;32mIn [2]\u001b[1;36m\u001b[0m\n\u001b[1;33m    data types\u001b[0m\n\u001b[1;37m         ^\u001b[0m\n\u001b[1;31mSyntaxError\u001b[0m\u001b[1;31m:\u001b[0m invalid syntax\n"
     ]
    }
   ],
   "source": [
    "data types"
   ]
  },
  {
   "cell_type": "code",
   "execution_count": 3,
   "id": "9375f513-f76f-4d2f-a260-5b2fae8e4196",
   "metadata": {},
   "outputs": [],
   "source": [
    "students=['vaishali','pranavita','teja','afwan','sachin','swapna','nikhil']"
   ]
  },
  {
   "cell_type": "code",
   "execution_count": 4,
   "id": "729c4657-4770-41f5-8306-40ed137e14ce",
   "metadata": {},
   "outputs": [
    {
     "name": "stdout",
     "output_type": "stream",
     "text": [
      "['vaishali', 'pranavita', 'teja', 'afwan', 'sachin', 'swapna', 'nikhil']\n"
     ]
    }
   ],
   "source": [
    "print(students)\n"
   ]
  },
  {
   "cell_type": "code",
   "execution_count": 5,
   "id": "0e426a38-b426-459b-9c72-5d87d1ed8033",
   "metadata": {},
   "outputs": [
    {
     "name": "stdout",
     "output_type": "stream",
     "text": [
      "pranavita\n"
     ]
    }
   ],
   "source": [
    "print(students[1])"
   ]
  },
  {
   "cell_type": "code",
   "execution_count": 6,
   "id": "4d8d531d-82a2-4071-8841-06edfd0a740b",
   "metadata": {},
   "outputs": [
    {
     "name": "stdout",
     "output_type": "stream",
     "text": [
      "<built-in method title of str object at 0x000001FFA9F27730>\n"
     ]
    }
   ],
   "source": [
    "print(students[1].title)"
   ]
  },
  {
   "cell_type": "code",
   "execution_count": 7,
   "id": "e83789c2-afe7-48b7-a193-f6ba6d0827fb",
   "metadata": {},
   "outputs": [
    {
     "name": "stdout",
     "output_type": "stream",
     "text": [
      "Pranavita\n"
     ]
    }
   ],
   "source": [
    "print(students[1].title())"
   ]
  },
  {
   "cell_type": "code",
   "execution_count": 8,
   "id": "9fde10ad-392d-4eb6-a2bb-4fce8bb52e02",
   "metadata": {},
   "outputs": [],
   "source": [
    "cars=['bmw','odi','kia','swift','xcent']"
   ]
  },
  {
   "cell_type": "code",
   "execution_count": 9,
   "id": "51fce94c-115c-4da0-b10c-949d336a15c0",
   "metadata": {},
   "outputs": [
    {
     "name": "stdout",
     "output_type": "stream",
     "text": [
      "['bmw', 'odi', 'kia', 'swift', 'xcent']\n"
     ]
    }
   ],
   "source": [
    "print(cars)"
   ]
  },
  {
   "cell_type": "code",
   "execution_count": 10,
   "id": "6d5d3358-0bbd-475d-8971-8a483bcc30b5",
   "metadata": {},
   "outputs": [
    {
     "name": "stdout",
     "output_type": "stream",
     "text": [
      "['bmw', 'kia', 'odi', 'swift', 'xcent']\n"
     ]
    }
   ],
   "source": [
    "print(sorted(cars))"
   ]
  },
  {
   "cell_type": "code",
   "execution_count": 11,
   "id": "aaa202fa-2fbc-4e13-9852-9c8e4ac7c696",
   "metadata": {},
   "outputs": [
    {
     "name": "stdout",
     "output_type": "stream",
     "text": [
      "['bmw', 'odi', 'kia', 'swift', 'xcent']\n"
     ]
    }
   ],
   "source": [
    "print(cars)\n"
   ]
  },
  {
   "cell_type": "code",
   "execution_count": 12,
   "id": "cfe749fd-ad50-4b06-9359-4c62ea43df98",
   "metadata": {},
   "outputs": [],
   "source": [
    "cars.sort()"
   ]
  },
  {
   "cell_type": "code",
   "execution_count": 13,
   "id": "670d5bc8-1132-49d0-8c8e-c07b639f5603",
   "metadata": {},
   "outputs": [
    {
     "name": "stdout",
     "output_type": "stream",
     "text": [
      "['bmw', 'kia', 'odi', 'swift', 'xcent']\n"
     ]
    }
   ],
   "source": [
    "print(cars)"
   ]
  },
  {
   "cell_type": "code",
   "execution_count": 14,
   "id": "e3f13513-912c-424a-ae0b-1e1592e6a619",
   "metadata": {},
   "outputs": [],
   "source": [
    "cars.reverse()"
   ]
  },
  {
   "cell_type": "code",
   "execution_count": 15,
   "id": "35ee4464-0fe3-499b-bf53-4140b02147a9",
   "metadata": {},
   "outputs": [
    {
     "name": "stdout",
     "output_type": "stream",
     "text": [
      "['xcent', 'swift', 'odi', 'kia', 'bmw']\n"
     ]
    }
   ],
   "source": [
    "print(cars)\n"
   ]
  },
  {
   "cell_type": "code",
   "execution_count": 16,
   "id": "dac978bb-4cdf-473a-87b9-3f992e5081bc",
   "metadata": {},
   "outputs": [
    {
     "data": {
      "text/plain": [
       "5"
      ]
     },
     "execution_count": 16,
     "metadata": {},
     "output_type": "execute_result"
    }
   ],
   "source": [
    "len(cars)"
   ]
  },
  {
   "cell_type": "code",
   "execution_count": 17,
   "id": "37c5b505-5a86-4526-862e-b02b8fcae3a7",
   "metadata": {},
   "outputs": [
    {
     "data": {
      "text/plain": [
       "7"
      ]
     },
     "execution_count": 17,
     "metadata": {},
     "output_type": "execute_result"
    }
   ],
   "source": [
    "len(students)"
   ]
  },
  {
   "cell_type": "code",
   "execution_count": 18,
   "id": "a8506527-acf9-45d4-bcee-c9a80a525796",
   "metadata": {},
   "outputs": [],
   "source": [
    "students.reverse()\n"
   ]
  },
  {
   "cell_type": "code",
   "execution_count": 19,
   "id": "4e77bdf5-4712-4c84-8225-51ca9e4356a3",
   "metadata": {},
   "outputs": [
    {
     "name": "stdout",
     "output_type": "stream",
     "text": [
      "['nikhil', 'swapna', 'sachin', 'afwan', 'teja', 'pranavita', 'vaishali']\n"
     ]
    }
   ],
   "source": [
    "print(students)\n"
   ]
  },
  {
   "cell_type": "code",
   "execution_count": 20,
   "id": "fd5aaa5b-1971-49da-a0f2-be03db68e3a5",
   "metadata": {},
   "outputs": [
    {
     "name": "stdout",
     "output_type": "stream",
     "text": [
      "['nikhil', 'swapna', 'sachin', 'afwan', 'teja', 'pranavita', 'vaishali']\n"
     ]
    }
   ],
   "source": [
    "print(students)"
   ]
  },
  {
   "cell_type": "code",
   "execution_count": 21,
   "id": "fcfcd4d1-0c8c-4548-9b11-f03676824abc",
   "metadata": {},
   "outputs": [
    {
     "name": "stdout",
     "output_type": "stream",
     "text": [
      "list[slice(2, 4, None)]\n"
     ]
    }
   ],
   "source": [
    "print(list[2:4])"
   ]
  },
  {
   "cell_type": "code",
   "execution_count": 22,
   "id": "d072ed24-84fb-49ed-bb8b-2535b2d28dc1",
   "metadata": {},
   "outputs": [
    {
     "ename": "SyntaxError",
     "evalue": "invalid syntax (531298903.py, line 1)",
     "output_type": "error",
     "traceback": [
      "\u001b[1;36m  Input \u001b[1;32mIn [22]\u001b[1;36m\u001b[0m\n\u001b[1;33m    print(students[2;4])\u001b[0m\n\u001b[1;37m                    ^\u001b[0m\n\u001b[1;31mSyntaxError\u001b[0m\u001b[1;31m:\u001b[0m invalid syntax\n"
     ]
    }
   ],
   "source": [
    "print(students[2;4])"
   ]
  },
  {
   "cell_type": "code",
   "execution_count": 23,
   "id": "aadbf36c-c682-4b4f-aa60-bd9329be4721",
   "metadata": {},
   "outputs": [
    {
     "name": "stdout",
     "output_type": "stream",
     "text": [
      "['sachin', 'afwan']\n"
     ]
    }
   ],
   "source": [
    "print(students[2:4])"
   ]
  },
  {
   "cell_type": "code",
   "execution_count": 24,
   "id": "ad075bdd-4ddf-4ae6-a54e-f3fb0f531838",
   "metadata": {},
   "outputs": [
    {
     "name": "stdout",
     "output_type": "stream",
     "text": [
      "['nikhil', 'swapna', 'sachin']\n"
     ]
    }
   ],
   "source": [
    "print(students[0:3])"
   ]
  },
  {
   "cell_type": "code",
   "execution_count": 25,
   "id": "2db3271c-809a-4b8f-aaf0-73ef938ea32a",
   "metadata": {},
   "outputs": [
    {
     "name": "stdout",
     "output_type": "stream",
     "text": [
      "['swapna', 'sachin', 'afwan', 'teja', 'pranavita', 'vaishali']\n"
     ]
    }
   ],
   "source": [
    "print(students[1:7:1])\n"
   ]
  },
  {
   "cell_type": "code",
   "execution_count": 26,
   "id": "0632ad3d-3752-412b-b115-48a47bab3ac2",
   "metadata": {},
   "outputs": [
    {
     "name": "stdout",
     "output_type": "stream",
     "text": [
      "['nikhil', 'sachin', 'teja']\n"
     ]
    }
   ],
   "source": [
    "print(students[0:5:2])"
   ]
  },
  {
   "cell_type": "code",
   "execution_count": null,
   "id": "52061cd9-a6b8-4cf8-8fe5-d4afb69f9e41",
   "metadata": {},
   "outputs": [],
   "source": []
  }
 ],
 "metadata": {
  "kernelspec": {
   "display_name": "Python 3 (ipykernel)",
   "language": "python",
   "name": "python3"
  },
  "language_info": {
   "codemirror_mode": {
    "name": "ipython",
    "version": 3
   },
   "file_extension": ".py",
   "mimetype": "text/x-python",
   "name": "python",
   "nbconvert_exporter": "python",
   "pygments_lexer": "ipython3",
   "version": "3.9.12"
  }
 },
 "nbformat": 4,
 "nbformat_minor": 5
}
