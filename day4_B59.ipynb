{
 "cells": [
  {
   "cell_type": "code",
   "execution_count": 1,
   "id": "c85c0b5b-d115-4e96-ada7-a51102ccff42",
   "metadata": {},
   "outputs": [],
   "source": [
    "students=['vaishali','pranavita','teja','afwan','sachin','swapna','nikhil']"
   ]
  },
  {
   "cell_type": "code",
   "execution_count": 2,
   "id": "8e01e1d1-63d9-422e-abb1-bcf39ff7a9f1",
   "metadata": {},
   "outputs": [],
   "source": [
    "# Req 1: To add element 'Chetan' in the list "
   ]
  },
  {
   "cell_type": "code",
   "execution_count": 3,
   "id": "c2fe5fab-ff9f-4c8d-8faa-d856970eb7a1",
   "metadata": {},
   "outputs": [
    {
     "ename": "NameError",
     "evalue": "name 'student' is not defined",
     "output_type": "error",
     "traceback": [
      "\u001b[1;31m---------------------------------------------------------------------------\u001b[0m",
      "\u001b[1;31mNameError\u001b[0m                                 Traceback (most recent call last)",
      "Input \u001b[1;32mIn [3]\u001b[0m, in \u001b[0;36m<cell line: 1>\u001b[1;34m()\u001b[0m\n\u001b[1;32m----> 1\u001b[0m \u001b[43mstudent\u001b[49m\u001b[38;5;241m.\u001b[39mappend(\u001b[38;5;124m'\u001b[39m\u001b[38;5;124mChetan\u001b[39m\u001b[38;5;124m'\u001b[39m)\n",
      "\u001b[1;31mNameError\u001b[0m: name 'student' is not defined"
     ]
    }
   ],
   "source": [
    "students.append('Chetan')"
   ]
  },
  {
   "cell_type": "code",
   "execution_count": 4,
   "id": "daaf3f51-f387-44e5-b2d0-787c8a0da2c0",
   "metadata": {},
   "outputs": [],
   "source": [
    "students.append('Chetan')"
   ]
  },
  {
   "cell_type": "code",
   "execution_count": 5,
   "id": "a1f51353-fcf7-4fdd-8651-6a81a0fd5d77",
   "metadata": {},
   "outputs": [
    {
     "name": "stdout",
     "output_type": "stream",
     "text": [
      "['vaishali', 'pranavita', 'teja', 'afwan', 'sachin', 'swapna', 'nikhil', 'Chetan']\n"
     ]
    }
   ],
   "source": [
    "print(students)"
   ]
  },
  {
   "cell_type": "code",
   "execution_count": 6,
   "id": "97691ddd-7fef-4ad9-ba19-a971d01b00be",
   "metadata": {},
   "outputs": [],
   "source": [
    "# Req 2: To add element 'aru' at the 2nd index"
   ]
  },
  {
   "cell_type": "code",
   "execution_count": 7,
   "id": "29e9940a-6998-4f80-9fa9-3635aaa5965d",
   "metadata": {},
   "outputs": [],
   "source": [
    "students.insert(2,'aru')"
   ]
  },
  {
   "cell_type": "code",
   "execution_count": 8,
   "id": "4da6f382-6f4a-4df1-b909-12b88232ccd6",
   "metadata": {},
   "outputs": [
    {
     "name": "stdout",
     "output_type": "stream",
     "text": [
      "['vaishali', 'pranavita', 'aru', 'teja', 'afwan', 'sachin', 'swapna', 'nikhil', 'Chetan']\n"
     ]
    }
   ],
   "source": [
    "print(students)"
   ]
  },
  {
   "cell_type": "code",
   "execution_count": 9,
   "id": "9160b435-003e-46c8-a2de-caed20e28bf8",
   "metadata": {},
   "outputs": [],
   "source": [
    "# Req 3: To delete element 'teja' from the list"
   ]
  },
  {
   "cell_type": "code",
   "execution_count": 10,
   "id": "9f49f66d-0247-49d9-a2f9-6e05f42e61a8",
   "metadata": {},
   "outputs": [],
   "source": [
    "del students[3]"
   ]
  },
  {
   "cell_type": "code",
   "execution_count": 11,
   "id": "407757fb-2951-40cc-812b-0e67bb96c00f",
   "metadata": {},
   "outputs": [
    {
     "name": "stdout",
     "output_type": "stream",
     "text": [
      "['vaishali', 'pranavita', 'aru', 'afwan', 'sachin', 'swapna', 'nikhil', 'Chetan']\n"
     ]
    }
   ],
   "source": [
    "print(students)"
   ]
  },
  {
   "cell_type": "code",
   "execution_count": 12,
   "id": "ecae30a9-8387-41cc-9edb-3c18f827abc1",
   "metadata": {},
   "outputs": [],
   "source": [
    "# Req 4: To modify element 'pranavita' at index 1"
   ]
  },
  {
   "cell_type": "code",
   "execution_count": 13,
   "id": "fec96abe-2941-4b0a-8c45-a3d6946b5b4b",
   "metadata": {},
   "outputs": [],
   "source": [
    "students[1] = 'adi'"
   ]
  },
  {
   "cell_type": "code",
   "execution_count": 14,
   "id": "ded6d18a-1dd7-4beb-8466-19a0355cc3ca",
   "metadata": {},
   "outputs": [
    {
     "name": "stdout",
     "output_type": "stream",
     "text": [
      "['vaishali', 'adi', 'aru', 'afwan', 'sachin', 'swapna', 'nikhil', 'Chetan']\n"
     ]
    }
   ],
   "source": [
    "print(students)"
   ]
  },
  {
   "cell_type": "code",
   "execution_count": null,
   "id": "d8dc2daa-9a08-4623-983d-e77aa76cf672",
   "metadata": {},
   "outputs": [],
   "source": []
  }
 ],
 "metadata": {
  "kernelspec": {
   "display_name": "Python 3 (ipykernel)",
   "language": "python",
   "name": "python3"
  },
  "language_info": {
   "codemirror_mode": {
    "name": "ipython",
    "version": 3
   },
   "file_extension": ".py",
   "mimetype": "text/x-python",
   "name": "python",
   "nbconvert_exporter": "python",
   "pygments_lexer": "ipython3",
   "version": "3.9.12"
  }
 },
 "nbformat": 4,
 "nbformat_minor": 5
}
