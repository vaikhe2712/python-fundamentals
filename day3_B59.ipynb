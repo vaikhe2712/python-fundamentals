{
 "cells": [
  {
   "cell_type": "code",
   "execution_count": 1,
   "id": "97d904ad-00a8-499e-974b-c03514ead778",
   "metadata": {},
   "outputs": [
    {
     "ename": "NameError",
     "evalue": "name 'Print' is not defined",
     "output_type": "error",
     "traceback": [
      "\u001b[1;31m---------------------------------------------------------------------------\u001b[0m",
      "\u001b[1;31mNameError\u001b[0m                                 Traceback (most recent call last)",
      "Input \u001b[1;32mIn [1]\u001b[0m, in \u001b[0;36m<cell line: 1>\u001b[1;34m()\u001b[0m\n\u001b[1;32m----> 1\u001b[0m \u001b[43mPrint\u001b[49m(\u001b[38;5;124m\"\u001b[39m\u001b[38;5;124mPython\u001b[39m\u001b[38;5;124m\"\u001b[39m)\n",
      "\u001b[1;31mNameError\u001b[0m: name 'Print' is not defined"
     ]
    }
   ],
   "source": [
    "Print(\"Python\")"
   ]
  },
  {
   "cell_type": "code",
   "execution_count": 2,
   "id": "8f0610d4-ef45-43a8-92b2-fbc39b849225",
   "metadata": {},
   "outputs": [
    {
     "name": "stdout",
     "output_type": "stream",
     "text": [
      "Python\n"
     ]
    }
   ],
   "source": [
    "print(\"Python\")\n"
   ]
  },
  {
   "cell_type": "code",
   "execution_count": 3,
   "id": "cf618168-5d5a-44dc-9009-ac10e6dc9e61",
   "metadata": {},
   "outputs": [],
   "source": [
    "firstName='Vaishali'\n",
    "lastName='Khetre'"
   ]
  },
  {
   "cell_type": "code",
   "execution_count": 4,
   "id": "7f110cd9-a241-4cdc-855c-f435a7de959b",
   "metadata": {},
   "outputs": [
    {
     "name": "stdout",
     "output_type": "stream",
     "text": [
      "Vaishali\n"
     ]
    }
   ],
   "source": [
    "print(firstName)"
   ]
  },
  {
   "cell_type": "code",
   "execution_count": 5,
   "id": "c4784e96-d6a2-4659-9793-dff3121fe68b",
   "metadata": {},
   "outputs": [
    {
     "ename": "NameError",
     "evalue": "name 'Print' is not defined",
     "output_type": "error",
     "traceback": [
      "\u001b[1;31m---------------------------------------------------------------------------\u001b[0m",
      "\u001b[1;31mNameError\u001b[0m                                 Traceback (most recent call last)",
      "Input \u001b[1;32mIn [5]\u001b[0m, in \u001b[0;36m<cell line: 1>\u001b[1;34m()\u001b[0m\n\u001b[1;32m----> 1\u001b[0m \u001b[43mPrint\u001b[49m(lastName)\n",
      "\u001b[1;31mNameError\u001b[0m: name 'Print' is not defined"
     ]
    }
   ],
   "source": [
    "Print(lastName)"
   ]
  },
  {
   "cell_type": "code",
   "execution_count": 6,
   "id": "2d1f79ca-61f4-4beb-ae47-35b6e040cfe0",
   "metadata": {},
   "outputs": [
    {
     "name": "stdout",
     "output_type": "stream",
     "text": [
      "Khetre\n"
     ]
    }
   ],
   "source": [
    "print(lastName)"
   ]
  },
  {
   "cell_type": "code",
   "execution_count": 7,
   "id": "9dcc37aa-4a58-43c8-88ed-1bef664e67a4",
   "metadata": {},
   "outputs": [
    {
     "ename": "NameError",
     "evalue": "name 'firstname' is not defined",
     "output_type": "error",
     "traceback": [
      "\u001b[1;31m---------------------------------------------------------------------------\u001b[0m",
      "\u001b[1;31mNameError\u001b[0m                                 Traceback (most recent call last)",
      "Input \u001b[1;32mIn [7]\u001b[0m, in \u001b[0;36m<cell line: 1>\u001b[1;34m()\u001b[0m\n\u001b[1;32m----> 1\u001b[0m \u001b[38;5;28mtype\u001b[39m(\u001b[43mfirstname\u001b[49m)\n",
      "\u001b[1;31mNameError\u001b[0m: name 'firstname' is not defined"
     ]
    }
   ],
   "source": [
    "type(firstname)"
   ]
  },
  {
   "cell_type": "code",
   "execution_count": 8,
   "id": "f42e9123-b8c8-490a-8f57-1d839630b097",
   "metadata": {},
   "outputs": [
    {
     "data": {
      "text/plain": [
       "str"
      ]
     },
     "execution_count": 8,
     "metadata": {},
     "output_type": "execute_result"
    }
   ],
   "source": [
    "type(firstName)"
   ]
  },
  {
   "cell_type": "code",
   "execution_count": 9,
   "id": "f4c0c171-849b-40bc-b33d-dae11594f8ef",
   "metadata": {},
   "outputs": [
    {
     "name": "stdout",
     "output_type": "stream",
     "text": [
      "VAISHALI\n"
     ]
    }
   ],
   "source": [
    "print(firstName.upper())"
   ]
  },
  {
   "cell_type": "code",
   "execution_count": 10,
   "id": "f00d69c2-99a9-45ed-9d92-f9d151dec88a",
   "metadata": {},
   "outputs": [
    {
     "name": "stdout",
     "output_type": "stream",
     "text": [
      "khetre\n"
     ]
    }
   ],
   "source": [
    "print(lastName.lower())"
   ]
  },
  {
   "cell_type": "code",
   "execution_count": 11,
   "id": "aea22547-538a-4a24-bc90-10b5f7b0afa2",
   "metadata": {},
   "outputs": [
    {
     "name": "stdout",
     "output_type": "stream",
     "text": [
      "Vaishali\n"
     ]
    }
   ],
   "source": [
    "print(firstName.title())"
   ]
  },
  {
   "cell_type": "code",
   "execution_count": 12,
   "id": "964ac4d7-9ff0-4f2e-acef-b56d7b20788a",
   "metadata": {},
   "outputs": [
    {
     "ename": "NameError",
     "evalue": "name 'fisrtName' is not defined",
     "output_type": "error",
     "traceback": [
      "\u001b[1;31m---------------------------------------------------------------------------\u001b[0m",
      "\u001b[1;31mNameError\u001b[0m                                 Traceback (most recent call last)",
      "Input \u001b[1;32mIn [12]\u001b[0m, in \u001b[0;36m<cell line: 1>\u001b[1;34m()\u001b[0m\n\u001b[1;32m----> 1\u001b[0m \u001b[38;5;28mprint\u001b[39m\u001b[38;5;241m=\u001b[39m\u001b[38;5;124mf\u001b[39m\u001b[38;5;124m\"\u001b[39m\u001b[38;5;132;01m{\u001b[39;00mfisrtName\u001b[38;5;132;01m}\u001b[39;00m\u001b[38;5;132;01m{\u001b[39;00mlastName\u001b[38;5;132;01m}\u001b[39;00m\u001b[38;5;124m\"\u001b[39m\n",
      "\u001b[1;31mNameError\u001b[0m: name 'fisrtName' is not defined"
     ]
    }
   ],
   "source": [
    "print=f\"{fisrtName}{lastName}\""
   ]
  },
  {
   "cell_type": "code",
   "execution_count": 13,
   "id": "c74f5795-13e1-454c-b59d-2ac532cafe6e",
   "metadata": {},
   "outputs": [
    {
     "ename": "NameError",
     "evalue": "name 'prnt' is not defined",
     "output_type": "error",
     "traceback": [
      "\u001b[1;31m---------------------------------------------------------------------------\u001b[0m",
      "\u001b[1;31mNameError\u001b[0m                                 Traceback (most recent call last)",
      "Input \u001b[1;32mIn [13]\u001b[0m, in \u001b[0;36m<cell line: 4>\u001b[1;34m()\u001b[0m\n\u001b[0;32m      2\u001b[0m lname\u001b[38;5;241m=\u001b[39m\u001b[38;5;124m'\u001b[39m\u001b[38;5;124mkhetre\u001b[39m\u001b[38;5;124m'\u001b[39m\n\u001b[0;32m      3\u001b[0m fullname\u001b[38;5;241m=\u001b[39m\u001b[38;5;124mf\u001b[39m\u001b[38;5;124m\"\u001b[39m\u001b[38;5;132;01m{\u001b[39;00mfname\u001b[38;5;132;01m}\u001b[39;00m\u001b[38;5;132;01m{\u001b[39;00mlname\u001b[38;5;132;01m}\u001b[39;00m\u001b[38;5;124m\"\u001b[39m\n\u001b[1;32m----> 4\u001b[0m \u001b[43mprnt\u001b[49m(fullname)\n",
      "\u001b[1;31mNameError\u001b[0m: name 'prnt' is not defined"
     ]
    }
   ],
   "source": [
    "fname='vaishai'\n",
    "lname='khetre'\n",
    "fullname=f\"{fname}{lname}\"\n",
    "prnt(fullname)"
   ]
  },
  {
   "cell_type": "code",
   "execution_count": 14,
   "id": "0a92cf84-9234-4b0f-9b56-704ab77fb3ca",
   "metadata": {},
   "outputs": [
    {
     "name": "stdout",
     "output_type": "stream",
     "text": [
      "vaishaikhetre\n"
     ]
    }
   ],
   "source": [
    "fname='vaishai'\n",
    "lname='khetre'\n",
    "fullname=f\"{fname}{lname}\"\n",
    "print(fullname)"
   ]
  },
  {
   "cell_type": "code",
   "execution_count": 15,
   "id": "6f2cc14b-eecc-41a4-87b4-d11e2c6a51ff",
   "metadata": {},
   "outputs": [
    {
     "ename": "NameError",
     "evalue": "name 'prnt' is not defined",
     "output_type": "error",
     "traceback": [
      "\u001b[1;31m---------------------------------------------------------------------------\u001b[0m",
      "\u001b[1;31mNameError\u001b[0m                                 Traceback (most recent call last)",
      "Input \u001b[1;32mIn [15]\u001b[0m, in \u001b[0;36m<cell line: 4>\u001b[1;34m()\u001b[0m\n\u001b[0;32m      2\u001b[0m lname\u001b[38;5;241m=\u001b[39m\u001b[38;5;124m'\u001b[39m\u001b[38;5;124mkhetre\u001b[39m\u001b[38;5;124m'\u001b[39m\n\u001b[0;32m      3\u001b[0m fullname\u001b[38;5;241m=\u001b[39m\u001b[38;5;124mf\u001b[39m\u001b[38;5;124m\"\u001b[39m\u001b[38;5;132;01m{\u001b[39;00mfname\u001b[38;5;132;01m}\u001b[39;00m\u001b[38;5;132;01m{\u001b[39;00mlname\u001b[38;5;132;01m}\u001b[39;00m\u001b[38;5;124m\"\u001b[39m\n\u001b[1;32m----> 4\u001b[0m \u001b[43mprnt\u001b[49m(fullname\u001b[38;5;241m.\u001b[39mtitle())\n",
      "\u001b[1;31mNameError\u001b[0m: name 'prnt' is not defined"
     ]
    }
   ],
   "source": [
    "fname='vaishai'\n",
    "lname='khetre'\n",
    "fullname=f\"{fname}{lname}\"\n",
    "prnt(fullname.title())"
   ]
  },
  {
   "cell_type": "code",
   "execution_count": 16,
   "id": "f4594b27-2d02-44a5-b9bc-ad4e460c27e7",
   "metadata": {},
   "outputs": [
    {
     "name": "stdout",
     "output_type": "stream",
     "text": [
      "Vaishaikhetre\n"
     ]
    }
   ],
   "source": [
    "fname='vaishai'\n",
    "lname='khetre'\n",
    "fullname=f\"{fname}{lname}\"\n",
    "print(fullname.title())"
   ]
  },
  {
   "cell_type": "code",
   "execution_count": 17,
   "id": "b4b4011c-289b-4330-ae05-6d2844d245fc",
   "metadata": {},
   "outputs": [
    {
     "ename": "SyntaxError",
     "evalue": "unexpected character after line continuation character (2515315281.py, line 1)",
     "output_type": "error",
     "traceback": [
      "\u001b[1;36m  Input \u001b[1;32mIn [17]\u001b[1;36m\u001b[0m\n\u001b[1;33m    print(fname \\n lname)\u001b[0m\n\u001b[1;37m                 ^\u001b[0m\n\u001b[1;31mSyntaxError\u001b[0m\u001b[1;31m:\u001b[0m unexpected character after line continuation character\n"
     ]
    }
   ],
   "source": [
    "print(fname \\n lname)"
   ]
  },
  {
   "cell_type": "code",
   "execution_count": 18,
   "id": "dd20521b-d8ab-41ba-a0f5-7e3b8944e3d6",
   "metadata": {},
   "outputs": [
    {
     "ename": "SyntaxError",
     "evalue": "invalid syntax (3277925258.py, line 1)",
     "output_type": "error",
     "traceback": [
      "\u001b[1;36m  Input \u001b[1;32mIn [18]\u001b[1;36m\u001b[0m\n\u001b[1;33m    print(fname \"\\n\" lname)\u001b[0m\n\u001b[1;37m                ^\u001b[0m\n\u001b[1;31mSyntaxError\u001b[0m\u001b[1;31m:\u001b[0m invalid syntax\n"
     ]
    }
   ],
   "source": [
    "print(fname \"\\n\" lname)"
   ]
  },
  {
   "cell_type": "code",
   "execution_count": 19,
   "id": "9aee3db6-c61c-430f-9b81-fb7e2b18c6f3",
   "metadata": {},
   "outputs": [
    {
     "ename": "SyntaxError",
     "evalue": "invalid syntax (1859460027.py, line 1)",
     "output_type": "error",
     "traceback": [
      "\u001b[1;36m  Input \u001b[1;32mIn [19]\u001b[1;36m\u001b[0m\n\u001b[1;33m    print({fname} \"\\n\" {lname})\u001b[0m\n\u001b[1;37m                  ^\u001b[0m\n\u001b[1;31mSyntaxError\u001b[0m\u001b[1;31m:\u001b[0m invalid syntax\n"
     ]
    }
   ],
   "source": [
    "print({fname} \"\\n\" {lname})"
   ]
  },
  {
   "cell_type": "code",
   "execution_count": 20,
   "id": "e78b911e-6924-480c-acbe-8416f9d1ee71",
   "metadata": {},
   "outputs": [
    {
     "ename": "SyntaxError",
     "evalue": "unexpected character after line continuation character (2521745862.py, line 1)",
     "output_type": "error",
     "traceback": [
      "\u001b[1;36m  Input \u001b[1;32mIn [20]\u001b[1;36m\u001b[0m\n\u001b[1;33m    print(\"{fname} \"\\n\" {lname}\")\u001b[0m\n\u001b[1;37m                     ^\u001b[0m\n\u001b[1;31mSyntaxError\u001b[0m\u001b[1;31m:\u001b[0m unexpected character after line continuation character\n"
     ]
    }
   ],
   "source": [
    "print(\"{fname} \"\\n\" {lname}\")"
   ]
  },
  {
   "cell_type": "code",
   "execution_count": 21,
   "id": "b4b4895d-1d20-4652-aab0-b55585f55dc3",
   "metadata": {},
   "outputs": [
    {
     "ename": "SyntaxError",
     "evalue": "unexpected character after line continuation character (3614055141.py, line 1)",
     "output_type": "error",
     "traceback": [
      "\u001b[1;36m  Input \u001b[1;32mIn [21]\u001b[1;36m\u001b[0m\n\u001b[1;33m    print(f\"{fname} \"\\n\" {lname}\")\u001b[0m\n\u001b[1;37m                      ^\u001b[0m\n\u001b[1;31mSyntaxError\u001b[0m\u001b[1;31m:\u001b[0m unexpected character after line continuation character\n"
     ]
    }
   ],
   "source": [
    "print(f\"{fname} \"\\n\" {lname}\")"
   ]
  },
  {
   "cell_type": "code",
   "execution_count": 22,
   "id": "04f22780-ea8a-4539-ba11-2b5b2a6b9969",
   "metadata": {},
   "outputs": [
    {
     "name": "stdout",
     "output_type": "stream",
     "text": [
      "Best companies are: TCSINFOSYSEYAMDOCS\n"
     ]
    }
   ],
   "source": [
    "print(\"Best companies are: TCSINFOSYSEYAMDOCS\")\n"
   ]
  },
  {
   "cell_type": "code",
   "execution_count": 23,
   "id": "3aeeafd2-769e-405e-a31e-6725ba4d8722",
   "metadata": {},
   "outputs": [
    {
     "name": "stdout",
     "output_type": "stream",
     "text": [
      "Best companies are: \n",
      "TCS\n",
      "INFOSYS\n",
      "EY\n",
      "AMDOCS\n"
     ]
    }
   ],
   "source": [
    "print(\"Best companies are: \\nTCS\\nINFOSYS\\nEY\\nAMDOCS\")"
   ]
  },
  {
   "cell_type": "code",
   "execution_count": 24,
   "id": "aecc9d65-4a9a-48af-b481-651484a61f8b",
   "metadata": {},
   "outputs": [
    {
     "name": "stdout",
     "output_type": "stream",
     "text": [
      "Best companies are: \n",
      "\tTCS\n",
      "\tINFOSYS\n",
      "\tEY\n",
      "\tAMDOCS\n"
     ]
    }
   ],
   "source": [
    "print(\"Best companies are: \\n\\tTCS\\n\\tINFOSYS\\n\\tEY\\n\\tAMDOCS\")"
   ]
  },
  {
   "cell_type": "code",
   "execution_count": null,
   "id": "4c89925b-f5c8-45fd-a541-557a9d11b35e",
   "metadata": {},
   "outputs": [],
   "source": []
  }
 ],
 "metadata": {
  "kernelspec": {
   "display_name": "Python 3 (ipykernel)",
   "language": "python",
   "name": "python3"
  },
  "language_info": {
   "codemirror_mode": {
    "name": "ipython",
    "version": 3
   },
   "file_extension": ".py",
   "mimetype": "text/x-python",
   "name": "python",
   "nbconvert_exporter": "python",
   "pygments_lexer": "ipython3",
   "version": "3.9.12"
  }
 },
 "nbformat": 4,
 "nbformat_minor": 5
}
